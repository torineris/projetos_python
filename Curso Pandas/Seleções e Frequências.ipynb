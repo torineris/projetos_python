{
 "cells": [
  {
   "cell_type": "markdown",
   "id": "2198cfc6",
   "metadata": {},
   "source": [
    "# Relatório de Análise IV"
   ]
  },
  {
   "cell_type": "markdown",
   "id": "080ca7c5",
   "metadata": {},
   "source": [
    "## Seleção e Frequências"
   ]
  },
  {
   "cell_type": "code",
   "execution_count": 1,
   "id": "ee16818f",
   "metadata": {},
   "outputs": [],
   "source": [
    "import pandas as pd"
   ]
  },
  {
   "cell_type": "code",
   "execution_count": 2,
   "id": "efa945b2",
   "metadata": {},
   "outputs": [
    {
     "data": {
      "text/html": [
       "<div>\n",
       "<style scoped>\n",
       "    .dataframe tbody tr th:only-of-type {\n",
       "        vertical-align: middle;\n",
       "    }\n",
       "\n",
       "    .dataframe tbody tr th {\n",
       "        vertical-align: top;\n",
       "    }\n",
       "\n",
       "    .dataframe thead th {\n",
       "        text-align: right;\n",
       "    }\n",
       "</style>\n",
       "<table border=\"1\" class=\"dataframe\">\n",
       "  <thead>\n",
       "    <tr style=\"text-align: right;\">\n",
       "      <th></th>\n",
       "      <th>Tipo</th>\n",
       "      <th>Bairro</th>\n",
       "      <th>Quartos</th>\n",
       "      <th>Vagas</th>\n",
       "      <th>Suites</th>\n",
       "      <th>Area</th>\n",
       "      <th>Valor</th>\n",
       "      <th>Condominio</th>\n",
       "      <th>IPTU</th>\n",
       "    </tr>\n",
       "  </thead>\n",
       "  <tbody>\n",
       "    <tr>\n",
       "      <th>0</th>\n",
       "      <td>Quitinete</td>\n",
       "      <td>Copacabana</td>\n",
       "      <td>1</td>\n",
       "      <td>0</td>\n",
       "      <td>0</td>\n",
       "      <td>40</td>\n",
       "      <td>1700.0</td>\n",
       "      <td>500.0</td>\n",
       "      <td>60.0</td>\n",
       "    </tr>\n",
       "    <tr>\n",
       "      <th>1</th>\n",
       "      <td>Casa</td>\n",
       "      <td>Jardim Botânico</td>\n",
       "      <td>2</td>\n",
       "      <td>0</td>\n",
       "      <td>1</td>\n",
       "      <td>100</td>\n",
       "      <td>7000.0</td>\n",
       "      <td>NaN</td>\n",
       "      <td>NaN</td>\n",
       "    </tr>\n",
       "    <tr>\n",
       "      <th>2</th>\n",
       "      <td>Apartamento</td>\n",
       "      <td>Centro</td>\n",
       "      <td>1</td>\n",
       "      <td>0</td>\n",
       "      <td>0</td>\n",
       "      <td>15</td>\n",
       "      <td>800.0</td>\n",
       "      <td>390.0</td>\n",
       "      <td>20.0</td>\n",
       "    </tr>\n",
       "    <tr>\n",
       "      <th>3</th>\n",
       "      <td>Apartamento</td>\n",
       "      <td>Higienópolis</td>\n",
       "      <td>1</td>\n",
       "      <td>0</td>\n",
       "      <td>0</td>\n",
       "      <td>48</td>\n",
       "      <td>800.0</td>\n",
       "      <td>230.0</td>\n",
       "      <td>NaN</td>\n",
       "    </tr>\n",
       "    <tr>\n",
       "      <th>4</th>\n",
       "      <td>Apartamento</td>\n",
       "      <td>Vista Alegre</td>\n",
       "      <td>3</td>\n",
       "      <td>1</td>\n",
       "      <td>0</td>\n",
       "      <td>70</td>\n",
       "      <td>1200.0</td>\n",
       "      <td>NaN</td>\n",
       "      <td>NaN</td>\n",
       "    </tr>\n",
       "    <tr>\n",
       "      <th>5</th>\n",
       "      <td>Apartamento</td>\n",
       "      <td>Cachambi</td>\n",
       "      <td>2</td>\n",
       "      <td>0</td>\n",
       "      <td>0</td>\n",
       "      <td>50</td>\n",
       "      <td>1300.0</td>\n",
       "      <td>301.0</td>\n",
       "      <td>17.0</td>\n",
       "    </tr>\n",
       "    <tr>\n",
       "      <th>6</th>\n",
       "      <td>Casa de Condomínio</td>\n",
       "      <td>Barra da Tijuca</td>\n",
       "      <td>5</td>\n",
       "      <td>4</td>\n",
       "      <td>5</td>\n",
       "      <td>750</td>\n",
       "      <td>22000.0</td>\n",
       "      <td>NaN</td>\n",
       "      <td>NaN</td>\n",
       "    </tr>\n",
       "    <tr>\n",
       "      <th>7</th>\n",
       "      <td>Casa de Condomínio</td>\n",
       "      <td>Ramos</td>\n",
       "      <td>2</td>\n",
       "      <td>2</td>\n",
       "      <td>0</td>\n",
       "      <td>65</td>\n",
       "      <td>1000.0</td>\n",
       "      <td>NaN</td>\n",
       "      <td>NaN</td>\n",
       "    </tr>\n",
       "    <tr>\n",
       "      <th>8</th>\n",
       "      <td>Apartamento</td>\n",
       "      <td>Centro</td>\n",
       "      <td>1</td>\n",
       "      <td>0</td>\n",
       "      <td>0</td>\n",
       "      <td>36</td>\n",
       "      <td>1200.0</td>\n",
       "      <td>NaN</td>\n",
       "      <td>NaN</td>\n",
       "    </tr>\n",
       "    <tr>\n",
       "      <th>9</th>\n",
       "      <td>Apartamento</td>\n",
       "      <td>Grajaú</td>\n",
       "      <td>2</td>\n",
       "      <td>1</td>\n",
       "      <td>0</td>\n",
       "      <td>70</td>\n",
       "      <td>1500.0</td>\n",
       "      <td>642.0</td>\n",
       "      <td>74.0</td>\n",
       "    </tr>\n",
       "  </tbody>\n",
       "</table>\n",
       "</div>"
      ],
      "text/plain": [
       "                 Tipo           Bairro  Quartos  Vagas  Suites  Area    Valor  \\\n",
       "0           Quitinete       Copacabana        1      0       0    40   1700.0   \n",
       "1                Casa  Jardim Botânico        2      0       1   100   7000.0   \n",
       "2         Apartamento           Centro        1      0       0    15    800.0   \n",
       "3         Apartamento     Higienópolis        1      0       0    48    800.0   \n",
       "4         Apartamento     Vista Alegre        3      1       0    70   1200.0   \n",
       "5         Apartamento         Cachambi        2      0       0    50   1300.0   \n",
       "6  Casa de Condomínio  Barra da Tijuca        5      4       5   750  22000.0   \n",
       "7  Casa de Condomínio            Ramos        2      2       0    65   1000.0   \n",
       "8         Apartamento           Centro        1      0       0    36   1200.0   \n",
       "9         Apartamento           Grajaú        2      1       0    70   1500.0   \n",
       "\n",
       "   Condominio  IPTU  \n",
       "0       500.0  60.0  \n",
       "1         NaN   NaN  \n",
       "2       390.0  20.0  \n",
       "3       230.0   NaN  \n",
       "4         NaN   NaN  \n",
       "5       301.0  17.0  \n",
       "6         NaN   NaN  \n",
       "7         NaN   NaN  \n",
       "8         NaN   NaN  \n",
       "9       642.0  74.0  "
      ]
     },
     "execution_count": 2,
     "metadata": {},
     "output_type": "execute_result"
    }
   ],
   "source": [
    "dados = pd.read_csv('dados/aluguel_residencial.csv', sep=';')\n",
    "dados.head(10)"
   ]
  },
  {
   "cell_type": "markdown",
   "id": "cf33f248",
   "metadata": {},
   "source": [
    "### Selecione somente os imóveis classificados com tipo 'Apartamento'."
   ]
  },
  {
   "cell_type": "code",
   "execution_count": 3,
   "id": "e5eca19b",
   "metadata": {},
   "outputs": [
    {
     "data": {
      "text/plain": [
       "0        False\n",
       "1        False\n",
       "2         True\n",
       "3         True\n",
       "4         True\n",
       "         ...  \n",
       "22575     True\n",
       "22576    False\n",
       "22577     True\n",
       "22578     True\n",
       "22579     True\n",
       "Name: Tipo, Length: 22580, dtype: bool"
      ]
     },
     "execution_count": 3,
     "metadata": {},
     "output_type": "execute_result"
    }
   ],
   "source": [
    "selecao = dados['Tipo'] == 'Apartamento'\n",
    "selecao"
   ]
  },
  {
   "cell_type": "code",
   "execution_count": 4,
   "id": "8fd61230",
   "metadata": {},
   "outputs": [
    {
     "data": {
      "text/plain": [
       "19532"
      ]
     },
     "execution_count": 4,
     "metadata": {},
     "output_type": "execute_result"
    }
   ],
   "source": [
    "selecao = dados['Tipo'] == 'Apartamento'\n",
    "n1 = dados[selecao].shape[0]\n",
    "n1"
   ]
  },
  {
   "cell_type": "markdown",
   "id": "1e20cd9b",
   "metadata": {},
   "source": [
    "### Selecione os imóveis classificados com tipos 'Casa', 'Casa de Condomínio' e 'Casa de Vila'."
   ]
  },
  {
   "cell_type": "code",
   "execution_count": 9,
   "id": "f91b6b6a",
   "metadata": {},
   "outputs": [
    {
     "data": {
      "text/plain": [
       "2212"
      ]
     },
     "execution_count": 9,
     "metadata": {},
     "output_type": "execute_result"
    }
   ],
   "source": [
    "selecao = (dados['Tipo'] == 'Casa') | (dados['Tipo'] == 'Casa de Condomínio') | (dados['Tipo'] == 'Casa de Vila')\n",
    "n2 = dados[selecao].shape[0]\n",
    "n2"
   ]
  },
  {
   "cell_type": "markdown",
   "id": "7659f21d",
   "metadata": {},
   "source": [
    "### Selecione os imóveis com área entre 60 e 100 metros quadrados, incluindo os limites."
   ]
  },
  {
   "cell_type": "code",
   "execution_count": 10,
   "id": "557854ba",
   "metadata": {},
   "outputs": [
    {
     "data": {
      "text/plain": [
       "8719"
      ]
     },
     "execution_count": 10,
     "metadata": {},
     "output_type": "execute_result"
    }
   ],
   "source": [
    "selecao = (dados['Area']>=60) & (dados['Area'] <=100)\n",
    "n3 = dados[selecao].shape[0]\n",
    "n3"
   ]
  },
  {
   "cell_type": "markdown",
   "id": "1ac3313b",
   "metadata": {},
   "source": [
    "### Selecione os imóveis que tenham pelo menos 4 quartos e aluguel menor que R$ 2.000,00."
   ]
  },
  {
   "cell_type": "code",
   "execution_count": 11,
   "id": "9dc1a4cf",
   "metadata": {},
   "outputs": [
    {
     "data": {
      "text/plain": [
       "41"
      ]
     },
     "execution_count": 11,
     "metadata": {},
     "output_type": "execute_result"
    }
   ],
   "source": [
    "selecao = (dados['Quartos']>=4)&(dados['Valor']<2000)\n",
    "n4 = dados[selecao].shape[0]\n",
    "n4"
   ]
  },
  {
   "cell_type": "code",
   "execution_count": 12,
   "id": "da8e432a",
   "metadata": {},
   "outputs": [
    {
     "name": "stdout",
     "output_type": "stream",
     "text": [
      "Nº de imóveis classificados com tipo 'Apartamento' -> 19532\n",
      "Nº de imóveis classificados com tipos 'Casa', 'Casa de Condomínio' e 'Casa de Vila'-> 2212\n",
      "Nº de imóveis com área entre 60 e 100 metros quadrados, incluindo os limites -> 8719\n",
      "Nº de imóveis que tenham pelo menos 4 quartos e aluguel menor que R$ 2.000,00 -> 41\n"
     ]
    }
   ],
   "source": [
    "print(\"Nº de imóveis classificados com tipo 'Apartamento' -> {}\".format(n1))\n",
    "print(\"Nº de imóveis classificados com tipos 'Casa', 'Casa de Condomínio' e 'Casa de Vila'-> {}\".format(n2))\n",
    "print(\"Nº de imóveis com área entre 60 e 100 metros quadrados, incluindo os limites -> {}\".format(n3))\n",
    "print(\"Nº de imóveis que tenham pelo menos 4 quartos e aluguel menor que R$ 2.000,00 -> {}\".format(n4))\n"
   ]
  },
  {
   "cell_type": "code",
   "execution_count": 13,
   "id": "af0cd4d4",
   "metadata": {},
   "outputs": [],
   "source": [
    "import pandas as pd\n",
    "alunos = pd.DataFrame({'Nome': ['Ary', 'Cátia', 'Denis', 'Beto', 'Bruna', 'Dara', 'Carlos', 'Alice'], \n",
    "                        'Sexo': ['M', 'F', 'M', 'M', 'F', 'F', 'M', 'F'], \n",
    "                        'Idade': [15, 27, 56, 32, 42, 21, 19, 35], \n",
    "                        'Notas': [7.5, 2.5, 5.0, 10, 8.2, 7, 6, 5.6], \n",
    "                        'Aprovado': [True, False, False, True, True, True, False, False]}, \n",
    "                        columns = ['Nome', 'Idade', 'Sexo', 'Notas', 'Aprovado'])"
   ]
  },
  {
   "cell_type": "code",
   "execution_count": 14,
   "id": "3dda600c",
   "metadata": {},
   "outputs": [
    {
     "data": {
      "text/html": [
       "<div>\n",
       "<style scoped>\n",
       "    .dataframe tbody tr th:only-of-type {\n",
       "        vertical-align: middle;\n",
       "    }\n",
       "\n",
       "    .dataframe tbody tr th {\n",
       "        vertical-align: top;\n",
       "    }\n",
       "\n",
       "    .dataframe thead th {\n",
       "        text-align: right;\n",
       "    }\n",
       "</style>\n",
       "<table border=\"1\" class=\"dataframe\">\n",
       "  <thead>\n",
       "    <tr style=\"text-align: right;\">\n",
       "      <th></th>\n",
       "      <th>Nome</th>\n",
       "      <th>Idade</th>\n",
       "      <th>Sexo</th>\n",
       "      <th>Notas</th>\n",
       "      <th>Aprovado</th>\n",
       "    </tr>\n",
       "  </thead>\n",
       "  <tbody>\n",
       "    <tr>\n",
       "      <th>0</th>\n",
       "      <td>Ary</td>\n",
       "      <td>15</td>\n",
       "      <td>M</td>\n",
       "      <td>7.5</td>\n",
       "      <td>True</td>\n",
       "    </tr>\n",
       "    <tr>\n",
       "      <th>1</th>\n",
       "      <td>Cátia</td>\n",
       "      <td>27</td>\n",
       "      <td>F</td>\n",
       "      <td>2.5</td>\n",
       "      <td>False</td>\n",
       "    </tr>\n",
       "    <tr>\n",
       "      <th>2</th>\n",
       "      <td>Denis</td>\n",
       "      <td>56</td>\n",
       "      <td>M</td>\n",
       "      <td>5.0</td>\n",
       "      <td>False</td>\n",
       "    </tr>\n",
       "    <tr>\n",
       "      <th>3</th>\n",
       "      <td>Beto</td>\n",
       "      <td>32</td>\n",
       "      <td>M</td>\n",
       "      <td>10.0</td>\n",
       "      <td>True</td>\n",
       "    </tr>\n",
       "    <tr>\n",
       "      <th>4</th>\n",
       "      <td>Bruna</td>\n",
       "      <td>42</td>\n",
       "      <td>F</td>\n",
       "      <td>8.2</td>\n",
       "      <td>True</td>\n",
       "    </tr>\n",
       "    <tr>\n",
       "      <th>5</th>\n",
       "      <td>Dara</td>\n",
       "      <td>21</td>\n",
       "      <td>F</td>\n",
       "      <td>7.0</td>\n",
       "      <td>True</td>\n",
       "    </tr>\n",
       "    <tr>\n",
       "      <th>6</th>\n",
       "      <td>Carlos</td>\n",
       "      <td>19</td>\n",
       "      <td>M</td>\n",
       "      <td>6.0</td>\n",
       "      <td>False</td>\n",
       "    </tr>\n",
       "    <tr>\n",
       "      <th>7</th>\n",
       "      <td>Alice</td>\n",
       "      <td>35</td>\n",
       "      <td>F</td>\n",
       "      <td>5.6</td>\n",
       "      <td>False</td>\n",
       "    </tr>\n",
       "  </tbody>\n",
       "</table>\n",
       "</div>"
      ],
      "text/plain": [
       "     Nome  Idade Sexo  Notas  Aprovado\n",
       "0     Ary     15    M    7.5      True\n",
       "1   Cátia     27    F    2.5     False\n",
       "2   Denis     56    M    5.0     False\n",
       "3    Beto     32    M   10.0      True\n",
       "4   Bruna     42    F    8.2      True\n",
       "5    Dara     21    F    7.0      True\n",
       "6  Carlos     19    M    6.0     False\n",
       "7   Alice     35    F    5.6     False"
      ]
     },
     "execution_count": 14,
     "metadata": {},
     "output_type": "execute_result"
    }
   ],
   "source": [
    "alunos"
   ]
  },
  {
   "cell_type": "code",
   "execution_count": 18,
   "id": "ea015b9a",
   "metadata": {},
   "outputs": [
    {
     "data": {
      "text/html": [
       "<div>\n",
       "<style scoped>\n",
       "    .dataframe tbody tr th:only-of-type {\n",
       "        vertical-align: middle;\n",
       "    }\n",
       "\n",
       "    .dataframe tbody tr th {\n",
       "        vertical-align: top;\n",
       "    }\n",
       "\n",
       "    .dataframe thead th {\n",
       "        text-align: right;\n",
       "    }\n",
       "</style>\n",
       "<table border=\"1\" class=\"dataframe\">\n",
       "  <thead>\n",
       "    <tr style=\"text-align: right;\">\n",
       "      <th></th>\n",
       "      <th>Nome</th>\n",
       "      <th>Idade</th>\n",
       "      <th>Sexo</th>\n",
       "      <th>Notas</th>\n",
       "      <th>Aprovado</th>\n",
       "    </tr>\n",
       "  </thead>\n",
       "  <tbody>\n",
       "    <tr>\n",
       "      <th>0</th>\n",
       "      <td>Ary</td>\n",
       "      <td>15</td>\n",
       "      <td>M</td>\n",
       "      <td>7.5</td>\n",
       "      <td>True</td>\n",
       "    </tr>\n",
       "    <tr>\n",
       "      <th>3</th>\n",
       "      <td>Beto</td>\n",
       "      <td>32</td>\n",
       "      <td>M</td>\n",
       "      <td>10.0</td>\n",
       "      <td>True</td>\n",
       "    </tr>\n",
       "    <tr>\n",
       "      <th>4</th>\n",
       "      <td>Bruna</td>\n",
       "      <td>42</td>\n",
       "      <td>F</td>\n",
       "      <td>8.2</td>\n",
       "      <td>True</td>\n",
       "    </tr>\n",
       "    <tr>\n",
       "      <th>5</th>\n",
       "      <td>Dara</td>\n",
       "      <td>21</td>\n",
       "      <td>F</td>\n",
       "      <td>7.0</td>\n",
       "      <td>True</td>\n",
       "    </tr>\n",
       "  </tbody>\n",
       "</table>\n",
       "</div>"
      ],
      "text/plain": [
       "    Nome  Idade Sexo  Notas  Aprovado\n",
       "0    Ary     15    M    7.5      True\n",
       "3   Beto     32    M   10.0      True\n",
       "4  Bruna     42    F    8.2      True\n",
       "5   Dara     21    F    7.0      True"
      ]
     },
     "execution_count": 18,
     "metadata": {},
     "output_type": "execute_result"
    }
   ],
   "source": [
    "selecao = alunos['Aprovado'] ==True\n",
    "df = pd.DataFrame(alunos[selecao])\n",
    "df"
   ]
  },
  {
   "cell_type": "code",
   "execution_count": 20,
   "id": "454e7892",
   "metadata": {},
   "outputs": [
    {
     "data": {
      "text/html": [
       "<div>\n",
       "<style scoped>\n",
       "    .dataframe tbody tr th:only-of-type {\n",
       "        vertical-align: middle;\n",
       "    }\n",
       "\n",
       "    .dataframe tbody tr th {\n",
       "        vertical-align: top;\n",
       "    }\n",
       "\n",
       "    .dataframe thead th {\n",
       "        text-align: right;\n",
       "    }\n",
       "</style>\n",
       "<table border=\"1\" class=\"dataframe\">\n",
       "  <thead>\n",
       "    <tr style=\"text-align: right;\">\n",
       "      <th></th>\n",
       "      <th>Nome</th>\n",
       "      <th>Idade</th>\n",
       "      <th>Sexo</th>\n",
       "      <th>Notas</th>\n",
       "      <th>Aprovado</th>\n",
       "    </tr>\n",
       "  </thead>\n",
       "  <tbody>\n",
       "    <tr>\n",
       "      <th>4</th>\n",
       "      <td>Bruna</td>\n",
       "      <td>42</td>\n",
       "      <td>F</td>\n",
       "      <td>8.2</td>\n",
       "      <td>True</td>\n",
       "    </tr>\n",
       "    <tr>\n",
       "      <th>5</th>\n",
       "      <td>Dara</td>\n",
       "      <td>21</td>\n",
       "      <td>F</td>\n",
       "      <td>7.0</td>\n",
       "      <td>True</td>\n",
       "    </tr>\n",
       "  </tbody>\n",
       "</table>\n",
       "</div>"
      ],
      "text/plain": [
       "    Nome  Idade Sexo  Notas  Aprovado\n",
       "4  Bruna     42    F    8.2      True\n",
       "5   Dara     21    F    7.0      True"
      ]
     },
     "execution_count": 20,
     "metadata": {},
     "output_type": "execute_result"
    }
   ],
   "source": [
    "selecao = (alunos['Aprovado'] == True) & (alunos['Sexo']=='F')\n",
    "df2 = alunos[selecao]\n",
    "df2"
   ]
  },
  {
   "cell_type": "code",
   "execution_count": 21,
   "id": "fd00303a",
   "metadata": {},
   "outputs": [
    {
     "data": {
      "text/html": [
       "<div>\n",
       "<style scoped>\n",
       "    .dataframe tbody tr th:only-of-type {\n",
       "        vertical-align: middle;\n",
       "    }\n",
       "\n",
       "    .dataframe tbody tr th {\n",
       "        vertical-align: top;\n",
       "    }\n",
       "\n",
       "    .dataframe thead th {\n",
       "        text-align: right;\n",
       "    }\n",
       "</style>\n",
       "<table border=\"1\" class=\"dataframe\">\n",
       "  <thead>\n",
       "    <tr style=\"text-align: right;\">\n",
       "      <th></th>\n",
       "      <th>Nome</th>\n",
       "      <th>Idade</th>\n",
       "      <th>Sexo</th>\n",
       "      <th>Notas</th>\n",
       "      <th>Aprovado</th>\n",
       "    </tr>\n",
       "  </thead>\n",
       "  <tbody>\n",
       "    <tr>\n",
       "      <th>0</th>\n",
       "      <td>Ary</td>\n",
       "      <td>15</td>\n",
       "      <td>M</td>\n",
       "      <td>7.5</td>\n",
       "      <td>True</td>\n",
       "    </tr>\n",
       "    <tr>\n",
       "      <th>2</th>\n",
       "      <td>Denis</td>\n",
       "      <td>56</td>\n",
       "      <td>M</td>\n",
       "      <td>5.0</td>\n",
       "      <td>False</td>\n",
       "    </tr>\n",
       "    <tr>\n",
       "      <th>4</th>\n",
       "      <td>Bruna</td>\n",
       "      <td>42</td>\n",
       "      <td>F</td>\n",
       "      <td>8.2</td>\n",
       "      <td>True</td>\n",
       "    </tr>\n",
       "    <tr>\n",
       "      <th>6</th>\n",
       "      <td>Carlos</td>\n",
       "      <td>19</td>\n",
       "      <td>M</td>\n",
       "      <td>6.0</td>\n",
       "      <td>False</td>\n",
       "    </tr>\n",
       "  </tbody>\n",
       "</table>\n",
       "</div>"
      ],
      "text/plain": [
       "     Nome  Idade Sexo  Notas  Aprovado\n",
       "0     Ary     15    M    7.5      True\n",
       "2   Denis     56    M    5.0     False\n",
       "4   Bruna     42    F    8.2      True\n",
       "6  Carlos     19    M    6.0     False"
      ]
     },
     "execution_count": 21,
     "metadata": {},
     "output_type": "execute_result"
    }
   ],
   "source": [
    "selecao = ((alunos.Idade >=10)&(alunos.Idade <=20)) | (alunos.Idade >=40)\n",
    "df3 = alunos[selecao]\n",
    "df3"
   ]
  },
  {
   "cell_type": "code",
   "execution_count": null,
   "id": "f76efd65",
   "metadata": {},
   "outputs": [],
   "source": []
  }
 ],
 "metadata": {
  "kernelspec": {
   "display_name": "Python 3 (ipykernel)",
   "language": "python",
   "name": "python3"
  },
  "language_info": {
   "codemirror_mode": {
    "name": "ipython",
    "version": 3
   },
   "file_extension": ".py",
   "mimetype": "text/x-python",
   "name": "python",
   "nbconvert_exporter": "python",
   "pygments_lexer": "ipython3",
   "version": "3.9.13"
  }
 },
 "nbformat": 4,
 "nbformat_minor": 5
}
